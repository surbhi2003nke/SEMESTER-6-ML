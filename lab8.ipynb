{
 "cells": [
  {
   "cell_type": "code",
   "execution_count": null,
   "id": "59df6364",
   "metadata": {},
   "outputs": [],
   "source": [
    "# Gene Expression Clustering and Classification\n",
    "\n",
    "# Import necessary libraries\n",
    "import numpy as np\n",
    "import pandas as pd\n",
    "import matplotlib.pyplot as plt\n",
    "import seaborn as sns\n",
    "\n",
    "from sklearn.preprocessing import StandardScaler\n",
    "from sklearn.decomposition import PCA\n",
    "from sklearn.metrics import accuracy_score, confusion_matrix\n",
    "from sklearn.linear_model import LogisticRegression\n",
    "from sklearn.model_selection import GridSearchCV"
   ]
  },
  {
   "cell_type": "code",
   "execution_count": 4,
   "id": "c7e870e2",
   "metadata": {},
   "outputs": [],
   "source": [
    "# Load the training and testing datasets\n",
    "df_train = pd.read_csv('data_set_ALL_AML_train.csv')\n",
    "df_test = pd.read_csv('data_set_ALL_AML_independent.csv')\n",
    "\n",
    "# Remove 'call' columns\n",
    "df_train = df_train[[col for col in df_train.columns if 'call' not in col]]\n",
    "df_test = df_test[[col for col in df_test.columns if 'call' not in col]]"
   ]
  },
  {
   "cell_type": "code",
   "execution_count": 5,
   "id": "8e7276c0",
   "metadata": {},
   "outputs": [],
   "source": [
    "\n",
    "# Reorder columns for easier processing\n",
    "train_columns = ['Gene Description', 'Gene Accession Number'] + [str(i) for i in range(1, 39)]\n",
    "test_columns = ['Gene Description', 'Gene Accession Number'] + [str(i) for i in range(39, 73)]\n",
    "df_train = df_train.reindex(columns=train_columns)\n",
    "df_test = df_test.reindex(columns=test_columns)"
   ]
  },
  {
   "cell_type": "code",
   "execution_count": 6,
   "id": "39066a05",
   "metadata": {},
   "outputs": [],
   "source": [
    "# Transpose datasets\n",
    "X_train = df_train.T.reset_index(drop=True)\n",
    "X_test = df_test.T.reset_index(drop=True)"
   ]
  },
  {
   "cell_type": "code",
   "execution_count": 7,
   "id": "8066fa8d",
   "metadata": {},
   "outputs": [],
   "source": [
    "# Extract labels and encode\n",
    "labels = ['ALL', 'AML']\n",
    "y = pd.read_csv('actual.csv')  # assuming labels are stored separately\n",
    "y = y.replace({'ALL': 0, 'AML': 1})\n",
    "y_train = y[y.patient <= 38].reset_index(drop=True)\n",
    "y_test = y[y.patient > 38].reset_index(drop=True)"
   ]
  },
  {
   "cell_type": "code",
   "execution_count": null,
   "id": "0cdc2372",
   "metadata": {},
   "outputs": [],
   "source": [
    "# Clean and convert to numeric\n",
    "X_train.columns = X_train.iloc[1]\n",
    "X_test.columns = X_test.iloc[1]\n",
    "\n",
    "X_train = X_train.iloc[2:].apply(pd.to_numeric)\n",
    "X_test = X_test.iloc[2:].apply(pd.to_numeric)\n"
   ]
  },
  {
   "cell_type": "code",
   "execution_count": 10,
   "id": "f8751deb",
   "metadata": {},
   "outputs": [],
   "source": [
    "# Standardize the data\n",
    "scaler = StandardScaler()\n",
    "X_train_scaled = scaler.fit_transform(X_train)\n",
    "X_test_scaled = scaler.transform(X_test)"
   ]
  },
  {
   "cell_type": "code",
   "execution_count": 11,
   "id": "4108ba5d",
   "metadata": {},
   "outputs": [],
   "source": [
    "# PCA for dimensionality reduction\n",
    "pca = PCA()\n",
    "pca.fit(X_train_scaled)\n",
    "total_variance = sum(pca.explained_variance_)\n",
    "k = 0\n",
    "current_variance = 0\n",
    "while current_variance / total_variance < 0.90:\n",
    "    current_variance += pca.explained_variance_[k]\n",
    "    k += 1\n",
    "\n",
    "pca = PCA(n_components=k)\n",
    "X_train_pca = pca.fit_transform(X_train_scaled)\n",
    "X_test_pca = pca.transform(X_test_scaled)"
   ]
  },
  {
   "cell_type": "code",
   "execution_count": 12,
   "id": "983a8436",
   "metadata": {},
   "outputs": [
    {
     "name": "stdout",
     "output_type": "stream",
     "text": [
      "Logistic Regression accuracy: 1.0\n"
     ]
    }
   ],
   "source": [
    "# Classification using Logistic Regression with GridSearchCV\n",
    "param_grid = {'C': [1e-3, 1e-2, 1e-1, 1, 10], 'penalty': ['l1', 'l2']}\n",
    "log_reg = GridSearchCV(LogisticRegression(solver='liblinear'), param_grid, cv=3, scoring='accuracy')\n",
    "log_reg.fit(X_train, y_train.iloc[:, 1])\n",
    "log_pred = log_reg.best_estimator_.predict(X_test)\n",
    "print('Logistic Regression accuracy:', round(accuracy_score(y_test.iloc[:, 1], log_pred), 3))"
   ]
  },
  {
   "cell_type": "code",
   "execution_count": 13,
   "id": "688075ad",
   "metadata": {},
   "outputs": [],
   "source": [
    "# Confusion matrix plotting function\n",
    "def plot_confusion_matrix(y_true, y_pred, title):\n",
    "    cm = confusion_matrix(y_true, y_pred)\n",
    "    ax = sns.heatmap(cm, annot=True, fmt='g', cmap='Greens')\n",
    "    ax.set_xlabel('Predicted labels')\n",
    "    ax.set_ylabel('True labels')\n",
    "    ax.set_title(title)\n",
    "    ax.xaxis.set_ticklabels(labels)\n",
    "    ax.yaxis.set_ticklabels(labels, rotation=360)\n",
    "    plt.show()"
   ]
  },
  {
   "cell_type": "code",
   "execution_count": 14,
   "id": "f198f8de",
   "metadata": {},
   "outputs": [
    {
     "data": {
      "image/png": "[encoded data removed]",
      "text/plain": [
       "<Figure size 640x480 with 2 Axes>"
      ]
     },
     "metadata": {},
     "output_type": "display_data"
    }
   ],
   "source": [
    "plot_confusion_matrix(y_test.iloc[:, 1], log_pred, 'Logistic Regression Confusion Matrix')"
   ]
  },
  {
   "cell_type": "code",
   "execution_count": 16,
   "id": "bcbce254",
   "metadata": {},
   "outputs": [
    {
     "name": "stdout",
     "output_type": "stream",
     "text": [
      "Logistic Regression Evaluation Metrics:\n",
      "Accuracy     : 1.000\n",
      "Precision    : 1.000\n",
      "Recall       : 1.000\n",
      "F1 Score     : 1.000\n",
      "ROC AUC Score: 1.000\n"
     ]
    }
   ],
   "source": [
    "from sklearn.metrics import accuracy_score, precision_score, recall_score, f1_score, roc_auc_score\n",
    "\n",
    "# Evaluation metrics\n",
    "accuracy = accuracy_score(y_test.iloc[:, 1], log_pred)\n",
    "precision = precision_score(y_test.iloc[:, 1], log_pred)\n",
    "recall = recall_score(y_test.iloc[:, 1], log_pred)\n",
    "f1 = f1_score(y_test.iloc[:, 1], log_pred)\n",
    "roc_auc = roc_auc_score(y_test.iloc[:, 1], log_pred)\n",
    "\n",
    "# Display results\n",
    "print(\"Logistic Regression Evaluation Metrics:\")\n",
    "print(f\"Accuracy     : {accuracy:.3f}\")\n",
    "print(f\"Precision    : {precision:.3f}\")\n",
    "print(f\"Recall       : {recall:.3f}\")\n",
    "print(f\"F1 Score     : {f1:.3f}\")\n",
    "print(f\"ROC AUC Score: {roc_auc:.3f}\")"
   ]
  }
 ],
 "metadata": {
  "kernelspec": {
   "display_name": "Python 3",
   "language": "python",
   "name": "python3"
  },
  "language_info": {
   "codemirror_mode": {
    "name": "ipython",
    "version": 3
   },
   "file_extension": ".py",
   "mimetype": "text/x-python",
   "name": "python",
   "nbconvert_exporter": "python",
   "pygments_lexer": "ipython3",
   "version": "3.11.1"
  }
 },
 "nbformat": 4,
 "nbformat_minor": 5
}
